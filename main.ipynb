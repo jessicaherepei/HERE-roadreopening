{
 "cells": [
  {
   "cell_type": "code",
   "execution_count": null,
   "metadata": {},
   "outputs": [],
   "source": [
    "import pandas as pd  \n",
    "import movingpandas as mpd \n",
    "import numpy \n",
    "from shapely.geometry import LineString\n",
    "import matplotlib.pyplot as plt\n",
    "from shapely import Point\n",
    "import math"
   ]
  },
  {
   "cell_type": "code",
   "execution_count": null,
   "metadata": {},
   "outputs": [],
   "source": [
    "#for loading files in data\n",
    "file_path = \"trajectories.csv\" \n",
    "df = pd.read_csv(file_path)"
   ]
  },
  {
   "cell_type": "markdown",
   "metadata": {},
   "source": [
    "Data Cleaning and Preprocessing: \n",
    "add length filtering compared to closed road"
   ]
  },
  {
   "cell_type": "code",
   "execution_count": null,
   "metadata": {},
   "outputs": [],
   "source": [
    "def filter_data(df, closed_road, distance_threshold=0.02):\n",
    "    \"\"\"\n",
    "    Filter data to only include points with non-zero speed and within a certain distance to a closed road.\n",
    "    \n",
    "    Args:\n",
    "    - df: DataFrame with columns ['longitude', 'latitude', 'speed']\n",
    "    - closed_road: Shapely LineString representing the closed road\n",
    "    - distance_threshold: Maximum distance (in kilometers) from the LineString\n",
    "    \n",
    "    Returns:\n",
    "    - Filtered DataFrame\n",
    "    \"\"\"\n",
    "    def is_near_closed_road(row):\n",
    "        point = Point(row['longitude'], row['latitude'])\n",
    "        return closed_road.distance(point) * 111 <= distance_threshold  \n",
    "    \n",
    "    # Filter for non-zero speed and proximity to the closed road\n",
    "    filtered_df = df[(df['speed'] != 0) & df.apply(is_near_closed_road, axis=1)]\n",
    "    return filtered_df\n",
    "\n",
    "def construct_trajectory_linestrings(df):\n",
    "    \"\"\"\n",
    "    Construct trajectories as LineStrings from points grouped by traj_id.\n",
    "    Args:\n",
    "    - df: DataFrame with trajectory data\n",
    "\n",
    "    Returns:\n",
    "    - Dictionary of trajectories {traj_id: LineString}\n",
    "    \"\"\"\n",
    "    trajectories = {}\n",
    "    grouped = df.groupby('traj_id')\n",
    "    for traj_id, group in grouped:\n",
    "        points = [(lon, lat) for lon, lat in zip(group['longitude'], group['latitude'])]\n",
    "        if len(points) > 1:  \n",
    "            trajectories[traj_id] = LineString(points)\n",
    "    return trajectories\n",
    "\n",
    "trajectories = construct_trajectory_linestrings(df)\n",
    "\n",
    "def get_orientation(linestring):\n",
    "    \"\"\"\n",
    "    Compute the primary orientation (heading) of a road from a LineString.\n",
    "    Args:\n",
    "    - linestring: Shapely LineString representing the road\n",
    "\n",
    "    Returns:\n",
    "    - Heading (degrees) in [0, 360], measured clockwise from north\n",
    "    \"\"\"\n",
    "    start = linestring.coords[0]  \n",
    "    end = linestring.coords[-1]  \n",
    "    dx = end[0] - start[0] \n",
    "    dy = end[1] - start[1]  \n",
    "    \n",
    "    angle = math.degrees(math.atan2(dx, dy))  \n",
    "    heading = (angle + 360) % 360  \n",
    "    return heading\n",
    "\n",
    "def filter_deviating_trajectories(trajectories, road_heading, threshold=30):\n",
    "    \"\"\"\n",
    "    Filter trajectories with headings deviating significantly from the road's primary direction.\n",
    "    Args:\n",
    "    - trajectories: Dictionary of LineStrings {traj_id: LineString}\n",
    "    - road_heading: Heading of the road (degrees)\n",
    "    - threshold: Maximum allowable deviation (degrees)\n",
    "\n",
    "    Returns:\n",
    "    - Dictionary of deviating trajectories {traj_id: LineString}\n",
    "    \"\"\"\n",
    "    deviating_trajectories = {}\n",
    "    for traj_id, trajectory in trajectories.items():\n",
    "        traj_heading = get_orientation(trajectory)\n",
    "        heading_diff = abs(traj_heading - road_heading) % 360\n",
    "        if heading_diff > 180: \n",
    "            heading_diff = 360 - heading_diff\n",
    "        \n",
    "        if heading_diff > threshold:\n",
    "            deviating_trajectories[traj_id] = trajectory\n",
    "    \n",
    "    return deviating_trajectories\n"
   ]
  },
  {
   "cell_type": "markdown",
   "metadata": {},
   "source": [
    "Data Processing"
   ]
  },
  {
   "cell_type": "code",
   "execution_count": null,
   "metadata": {},
   "outputs": [],
   "source": [
    "def compare_trajectories_linestrings(trajectories, closed_road, proximity_threshold=0.02):\n",
    "    \"\"\"\n",
    "    Compare LineStrings (trajectories) to the closed road LineString.\n",
    "    Args:\n",
    "    - trajectories: Dictionary of LineStrings {traj_id: LineString}\n",
    "    - closed_road: Shapely LineString representing the closed road\n",
    "    - proximity_threshold: Maximum distance (km) for proximity\n",
    "\n",
    "    Returns:\n",
    "    - Dictionary of results with {traj_id: {'distance': float, 'nearby': bool}}\n",
    "    \"\"\"\n",
    "    results = {}\n",
    "    for traj_id, linestring in trajectories.items():\n",
    "        distance = linestring.distance(closed_road) * 111  \n",
    "        nearby = distance <= proximity_threshold\n",
    "        results[traj_id] = {\n",
    "            'distance': distance,\n",
    "            'nearby': nearby\n",
    "        }\n",
    "    return results\n",
    "\n",
    "def is_road_open(results, min_trajectories=3):\n",
    "    \"\"\"\n",
    "    Determine if a closed road is open based on the proximity of trajectories.\n",
    "    Args:\n",
    "    - results: Dictionary containing trajectory data with {traj_id: {'distance': float, 'nearby': bool}}\n",
    "    - min_trajectories: Minimum number of unique trajectories required to mark the road as open\n",
    "\n",
    "    Returns:\n",
    "    - Boolean: True if the road is considered open, False otherwise\n",
    "    \"\"\"\n",
    "    unique_trajectories = results['traj_id'].nunique()\n",
    "    return unique_trajectories >= min_trajectories\n",
    "\n"
   ]
  },
  {
   "cell_type": "markdown",
   "metadata": {},
   "source": [
    "Data Visualization"
   ]
  },
  {
   "cell_type": "code",
   "execution_count": null,
   "metadata": {},
   "outputs": [],
   "source": [
    "def plot_trajectories_and_road(trajectories, closed_road):\n",
    "    \"\"\"\n",
    "    Plot all trajectories as LineStrings and the closed road.\n",
    "    \"\"\"\n",
    "    plt.figure(figsize=(10, 8))\n",
    "    xs, ys = closed_road.xy\n",
    "    plt.plot(xs, ys, label=\"Closed Road\", color=\"red\", linewidth=2)\n",
    "\n",
    "    for traj_id, linestring in trajectories.items():\n",
    "        xs, ys = linestring.xy\n",
    "        plt.plot(xs, ys, label=f\"Trajectory {traj_id}\", alpha=0.6)\n",
    "\n",
    "    plt.xlabel(\"Longitude\")\n",
    "    plt.ylabel(\"Latitude\")\n",
    "    plt.title(\"Trajectories and Closed Road\")\n",
    "    plt.legend()\n",
    "    plt.show()"
   ]
  }
 ],
 "metadata": {
  "kernelspec": {
   "display_name": "Python 3",
   "language": "python",
   "name": "python3"
  },
  "language_info": {
   "codemirror_mode": {
    "name": "ipython",
    "version": 3
   },
   "file_extension": ".py",
   "mimetype": "text/x-python",
   "name": "python",
   "nbconvert_exporter": "python",
   "pygments_lexer": "ipython3",
   "version": "3.13.0"
  }
 },
 "nbformat": 4,
 "nbformat_minor": 2
}
