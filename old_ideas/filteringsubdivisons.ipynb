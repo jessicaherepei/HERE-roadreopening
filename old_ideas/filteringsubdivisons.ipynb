{
 "cells": [
  {
   "cell_type": "code",
   "execution_count": 1,
   "metadata": {},
   "outputs": [],
   "source": [
    "import geopandas as gpd\n",
    "import pandas as pd\n",
    "import math\n",
    "from shapely.geometry import Point, LineString, MultiPoint\n",
    "from shapely.ops import split\n",
    "from tqdm import tqdm"
   ]
  },
  {
   "cell_type": "code",
   "execution_count": 2,
   "metadata": {},
   "outputs": [],
   "source": [
    "# Load Data\n",
    "closed_road_gdf = gpd.read_file(\"line_string.geojson\").to_crs(epsg=4326)\n",
    "probe_data_df = pd.read_csv(\"during_filtered.csv\")\n",
    "probe_data_gdf = gpd.GeoDataFrame(\n",
    "    probe_data_df,\n",
    "    geometry=gpd.points_from_xy(probe_data_df.longitude, probe_data_df.latitude),\n",
    "    crs=\"EPSG:4326\",\n",
    ").to_crs(epsg=4326)"
   ]
  },
  {
   "cell_type": "code",
   "execution_count": 3,
   "metadata": {},
   "outputs": [],
   "source": [
    "# Configurations\n",
    "SEGMENT_LENGTH = 5  # Length of segments in meters\n",
    "DISTANCE_THRESHOLD = 10.0  # Max distance in meters\n",
    "DELTA_HEADING_MAX = 30.0  # Max heading difference in degrees\n",
    "FRACTION_IN_USE_THRESHOLD = 0.5"
   ]
  },
  {
   "cell_type": "code",
   "execution_count": 4,
   "metadata": {},
   "outputs": [],
   "source": [
    "\n",
    "\n",
    "\n",
    "def subdivide_linestring(line, length):\n",
    "    \"\"\"Split a LineString into segments of a specified length.\"\"\"\n",
    "    if line.length <= length:\n",
    "        return [line]\n",
    "\n",
    "    # Calculate division points\n",
    "    num_divisions = int(line.length // length)\n",
    "    division_points = [line.interpolate(length * i) for i in range(1, num_divisions + 1)]\n",
    "\n",
    "    # Split the LineString\n",
    "    result = split(line, MultiPoint(division_points))\n",
    "    return list(result)\n",
    "\n",
    "def distance_to_line(line, point):\n",
    "    \"\"\"Calculate distance from a point to a line.\"\"\"\n",
    "    return line.distance(point)\n",
    "\n",
    "def compute_road_heading(segment, point):\n",
    "    \"\"\"Compute heading of the road at a given point.\"\"\"\n",
    "    if not isinstance(segment, LineString) or segment.is_empty:\n",
    "        return None\n",
    "\n",
    "    try:\n",
    "        nearest_point = segment.interpolate(segment.project(point))\n",
    "        coords = list(segment.coords)\n",
    "        for i in range(len(coords) - 1):\n",
    "            start, end = Point(coords[i]), Point(coords[i + 1])\n",
    "            if start.equals(nearest_point) or end.equals(nearest_point):\n",
    "                heading = math.degrees(math.atan2(end.y - start.y, end.x - start.x))\n",
    "                return (heading + 360) % 360\n",
    "    except Exception as e:\n",
    "        print(f\"Error in compute_road_heading: {e}\")\n",
    "    return None\n",
    "\n",
    "def heading_difference(h1, h2):\n",
    "    \"\"\"Compute the absolute difference between two headings.\"\"\"\n",
    "    diff = abs(h1 - h2)\n",
    "    return min(diff, 360 - diff)\n",
    "\n",
    "# Load Data\n",
    "\n",
    "# Assign Probe Data to Segments\n",
    "\n",
    "# Initialize lists for results\n"
   ]
  },
  {
   "cell_type": "code",
   "execution_count": 5,
   "metadata": {},
   "outputs": [
    {
     "name": "stdout",
     "output_type": "stream",
     "text": [
      "LINESTRING (4.525567 52.054775, 4.525616 52.054813, 4.525683 52.05486, 4.525752 52.054904, 4.525829 52.054991, 4.525858 52.055051, 4.525867 52.055115, 4.525866 52.055171, 4.525835 52.055238, 4.525807 52.055284, 4.525791 52.055373, 4.525754 52.055432, 4.525692 52.055498, 4.525658 52.055565, 4.525709 52.055677, 4.5257553 52.0557192, 4.525793 52.055745, 4.525843 52.055782, 4.525893 52.055828, 4.525937 52.055883, 4.526011 52.05595, 4.526046 52.055981, 4.526078 52.056005, 4.526167 52.056119)\n"
     ]
    }
   ],
   "source": [
    "closed_road_gdf = gpd.read_file(\"line_string.geojson\").to_crs(epsg=4326)\n",
    "probe_data_df = pd.read_csv(\"during_filtered.csv\")\n",
    "probe_data_gdf = gpd.GeoDataFrame(\n",
    "    probe_data_df,\n",
    "    geometry=gpd.points_from_xy(probe_data_df.longitude, probe_data_df.latitude),\n",
    "    crs=\"EPSG:4326\",\n",
    ").to_crs(epsg=4326)\n",
    "\n",
    "\n",
    "# Extract the coordinates from the Point geometries\n",
    "coordinates = [list(geom.coords)[0] for geom in closed_road_gdf.geometry]\n",
    "\n",
    "# Create a LineString from the points\n",
    "closed_road_line = LineString(coordinates)\n",
    "print(closed_road_line)\n",
    "road_segments = subdivide_linestring(closed_road_line, SEGMENT_LENGTH)"
   ]
  },
  {
   "cell_type": "code",
   "execution_count": null,
   "metadata": {},
   "outputs": [
    {
     "name": "stderr",
     "output_type": "stream",
     "text": [
      "Processing and filtering probe data:  31%|███▏      | 105903/336330 [04:58<05:01, 764.98it/s]"
     ]
    }
   ],
   "source": [
    "segment_ids = []\n",
    "probe_headings = []\n",
    "valid_probes = []\n",
    "\n",
    "# Process and filter in one loop\n",
    "for point in tqdm(probe_data_gdf.geometry, desc=\"Processing and filtering probe data\"):\n",
    "    min_distance = float(\"inf\")\n",
    "    closest_segment = None\n",
    "\n",
    "    # Find the closest segment\n",
    "    for i, segment in enumerate(road_segments):\n",
    "        if not isinstance(segment, LineString):\n",
    "            continue  # Skip invalid segments\n",
    "        dist = distance_to_line(segment, point)\n",
    "        if dist < min_distance:\n",
    "            min_distance = dist\n",
    "            closest_segment = i\n",
    "\n",
    "    # Check distance threshold\n",
    "    if min_distance <= DISTANCE_THRESHOLD and closest_segment is not None:\n",
    "        segment_heading = compute_road_heading(road_segments[closest_segment], point)\n",
    "        segment_ids.append(closest_segment)\n",
    "        probe_headings.append(segment_heading)\n",
    "\n",
    "        # Validate based on heading difference\n",
    "        road_heading = compute_road_heading(road_segments[closest_segment], point)\n",
    "        if segment_heading is not None and road_heading is not None:\n",
    "            if heading_difference(road_heading, segment_heading) <= DELTA_HEADING_MAX:\n",
    "                valid_probes.append(closest_segment)\n",
    "    else:\n",
    "        segment_ids.append(None)\n",
    "        probe_headings.append(None)\n",
    "\n",
    "\n",
    "probe_data_gdf[\"segment_id\"] = segment_ids\n",
    "probe_data_gdf[\"probe_heading\"] = probe_headings"
   ]
  },
  {
   "cell_type": "code",
   "execution_count": null,
   "metadata": {},
   "outputs": [],
   "source": [
    "\n",
    "segment_usage = pd.Series(valid_probes).value_counts(normalize=True)\n",
    "segment_in_use = segment_usage[segment_usage >= FRACTION_IN_USE_THRESHOLD].index\n",
    "\n",
    "print(f\"Segments in use: {list(segment_in_use)}\")\n",
    "# Determine if the road is open or closed\n",
    "total_segments = len(road_segments)\n",
    "used_segments_count = len(segment_in_use)\n",
    "fraction_in_use = used_segments_count / total_segments\n",
    "\n",
    "road_status = \"open\" if fraction_in_use >= FRACTION_IN_USE_THRESHOLD else \"closed\"\n",
    "\n",
    "# Output Results\n",
    "print(f\"Segments in use: {list(segment_in_use)}\")\n",
    "print(f\"Road status: {road_status}\")\n"
   ]
  }
 ],
 "metadata": {
  "kernelspec": {
   "display_name": "Python 3",
   "language": "python",
   "name": "python3"
  },
  "language_info": {
   "codemirror_mode": {
    "name": "ipython",
    "version": 3
   },
   "file_extension": ".py",
   "mimetype": "text/x-python",
   "name": "python",
   "nbconvert_exporter": "python",
   "pygments_lexer": "ipython3",
   "version": "3.11.4"
  }
 },
 "nbformat": 4,
 "nbformat_minor": 2
}
